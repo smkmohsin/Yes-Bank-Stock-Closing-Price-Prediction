{
  "nbformat": 4,
  "nbformat_minor": 0,
  "metadata": {
    "colab": {
      "name": "Yes Bank Stock Closing Price Prediction- Capstone Project .ipynb",
      "provenance": [],
      "authorship_tag": "ABX9TyN2NkBwMSx5ySco37fIDSDe",
      "include_colab_link": true
    },
    "kernelspec": {
      "name": "python3",
      "display_name": "Python 3"
    },
    "language_info": {
      "name": "python"
    }
  },
  "cells": [
    {
      "cell_type": "markdown",
      "metadata": {
        "id": "view-in-github",
        "colab_type": "text"
      },
      "source": [
        "<a href=\"https://colab.research.google.com/github/smkmohsin/Yes-Bank-Stock-Closing-Price-Prediction/blob/main/Yes_Bank_Stock_Closing_Price_Prediction_Capstone_Project_.ipynb\" target=\"_parent\"><img src=\"https://colab.research.google.com/assets/colab-badge.svg\" alt=\"Open In Colab\"/></a>"
      ]
    },
    {
      "cell_type": "markdown",
      "metadata": {
        "id": "ScNhet0T6T6y"
      },
      "source": [
        "## Yes Bank is a well-known bank in the Indian financial domain. Since 2018, it has been in the news because of the fraud case involving Rana Kapoor. Owing to this fact, it was interesting to see how that impacted the stock prices of the company and whether Time series models or any other predictive models can do justice to such situations. This dataset has monthly stock prices of the bank since its inception and includes closing, starting, highest, and lowest stock prices of every month. The main objective is to predict the stock’s closing price of the month."
      ]
    },
    {
      "cell_type": "markdown",
      "metadata": {
        "id": "Uzd4eu9a6wDF"
      },
      "source": [
        "### Importing the libraries\n"
      ]
    },
    {
      "cell_type": "code",
      "metadata": {
        "id": "n5BpRLdT6vDE"
      },
      "source": [
        "# Importing the libraries\n",
        "import numpy as np\n",
        "import pandas as pd\n",
        "from numpy import math\n",
        "\n",
        "from sklearn.preprocessing import MinMaxScaler\n",
        "from sklearn.model_selection import train_test_split\n",
        "from sklearn.linear_model import LinearRegression\n",
        "from sklearn.metrics import r2_score\n",
        "from sklearn.metrics import mean_squared_error\n",
        "import seaborn as sns\n",
        "import matplotlib.pyplot as plt\n",
        "import warnings\n",
        "warnings.filterwarnings('ignore')"
      ],
      "execution_count": 118,
      "outputs": []
    },
    {
      "cell_type": "code",
      "metadata": {
        "colab": {
          "base_uri": "https://localhost:8080/"
        },
        "id": "1hbOC-e25RrL",
        "outputId": "bfd0dc24-5cbf-4dd1-cb57-eb14c4d2855d"
      },
      "source": [
        "from google.colab import drive\n",
        "drive.mount('/content/drive')"
      ],
      "execution_count": 119,
      "outputs": [
        {
          "output_type": "stream",
          "name": "stdout",
          "text": [
            "Drive already mounted at /content/drive; to attempt to forcibly remount, call drive.mount(\"/content/drive\", force_remount=True).\n"
          ]
        }
      ]
    },
    {
      "cell_type": "code",
      "metadata": {
        "id": "ir4X23qf65eR"
      },
      "source": [
        "dataset = pd.read_csv('/content/drive/MyDrive/Almabetter/Module 4/Capstone Project/data_YesBank_StockPrices.csv')"
      ],
      "execution_count": 120,
      "outputs": []
    },
    {
      "cell_type": "code",
      "metadata": {
        "colab": {
          "base_uri": "https://localhost:8080/",
          "height": 421
        },
        "id": "Bv7u7aap7ej1",
        "outputId": "c21895d5-9e2b-44b7-eeda-101336c8fab7"
      },
      "source": [
        "dataset.head(12)"
      ],
      "execution_count": 121,
      "outputs": [
        {
          "output_type": "execute_result",
          "data": {
            "text/html": [
              "<div>\n",
              "<style scoped>\n",
              "    .dataframe tbody tr th:only-of-type {\n",
              "        vertical-align: middle;\n",
              "    }\n",
              "\n",
              "    .dataframe tbody tr th {\n",
              "        vertical-align: top;\n",
              "    }\n",
              "\n",
              "    .dataframe thead th {\n",
              "        text-align: right;\n",
              "    }\n",
              "</style>\n",
              "<table border=\"1\" class=\"dataframe\">\n",
              "  <thead>\n",
              "    <tr style=\"text-align: right;\">\n",
              "      <th></th>\n",
              "      <th>Date</th>\n",
              "      <th>Open</th>\n",
              "      <th>High</th>\n",
              "      <th>Low</th>\n",
              "      <th>Close</th>\n",
              "    </tr>\n",
              "  </thead>\n",
              "  <tbody>\n",
              "    <tr>\n",
              "      <th>0</th>\n",
              "      <td>Jul-05</td>\n",
              "      <td>13.00</td>\n",
              "      <td>14.00</td>\n",
              "      <td>11.25</td>\n",
              "      <td>12.46</td>\n",
              "    </tr>\n",
              "    <tr>\n",
              "      <th>1</th>\n",
              "      <td>Aug-05</td>\n",
              "      <td>12.58</td>\n",
              "      <td>14.88</td>\n",
              "      <td>12.55</td>\n",
              "      <td>13.42</td>\n",
              "    </tr>\n",
              "    <tr>\n",
              "      <th>2</th>\n",
              "      <td>Sep-05</td>\n",
              "      <td>13.48</td>\n",
              "      <td>14.87</td>\n",
              "      <td>12.27</td>\n",
              "      <td>13.30</td>\n",
              "    </tr>\n",
              "    <tr>\n",
              "      <th>3</th>\n",
              "      <td>Oct-05</td>\n",
              "      <td>13.20</td>\n",
              "      <td>14.47</td>\n",
              "      <td>12.40</td>\n",
              "      <td>12.99</td>\n",
              "    </tr>\n",
              "    <tr>\n",
              "      <th>4</th>\n",
              "      <td>Nov-05</td>\n",
              "      <td>13.35</td>\n",
              "      <td>13.88</td>\n",
              "      <td>12.88</td>\n",
              "      <td>13.41</td>\n",
              "    </tr>\n",
              "    <tr>\n",
              "      <th>5</th>\n",
              "      <td>Dec-05</td>\n",
              "      <td>13.49</td>\n",
              "      <td>14.44</td>\n",
              "      <td>13.00</td>\n",
              "      <td>13.71</td>\n",
              "    </tr>\n",
              "    <tr>\n",
              "      <th>6</th>\n",
              "      <td>Jan-06</td>\n",
              "      <td>13.68</td>\n",
              "      <td>17.16</td>\n",
              "      <td>13.58</td>\n",
              "      <td>15.33</td>\n",
              "    </tr>\n",
              "    <tr>\n",
              "      <th>7</th>\n",
              "      <td>Feb-06</td>\n",
              "      <td>15.50</td>\n",
              "      <td>16.97</td>\n",
              "      <td>15.40</td>\n",
              "      <td>16.12</td>\n",
              "    </tr>\n",
              "    <tr>\n",
              "      <th>8</th>\n",
              "      <td>Mar-06</td>\n",
              "      <td>16.20</td>\n",
              "      <td>20.95</td>\n",
              "      <td>16.02</td>\n",
              "      <td>20.08</td>\n",
              "    </tr>\n",
              "    <tr>\n",
              "      <th>9</th>\n",
              "      <td>Apr-06</td>\n",
              "      <td>20.56</td>\n",
              "      <td>20.80</td>\n",
              "      <td>18.02</td>\n",
              "      <td>19.49</td>\n",
              "    </tr>\n",
              "    <tr>\n",
              "      <th>10</th>\n",
              "      <td>May-06</td>\n",
              "      <td>19.80</td>\n",
              "      <td>21.80</td>\n",
              "      <td>15.80</td>\n",
              "      <td>18.03</td>\n",
              "    </tr>\n",
              "    <tr>\n",
              "      <th>11</th>\n",
              "      <td>Jun-06</td>\n",
              "      <td>18.20</td>\n",
              "      <td>18.40</td>\n",
              "      <td>13.40</td>\n",
              "      <td>15.62</td>\n",
              "    </tr>\n",
              "  </tbody>\n",
              "</table>\n",
              "</div>"
            ],
            "text/plain": [
              "      Date   Open   High    Low  Close\n",
              "0   Jul-05  13.00  14.00  11.25  12.46\n",
              "1   Aug-05  12.58  14.88  12.55  13.42\n",
              "2   Sep-05  13.48  14.87  12.27  13.30\n",
              "3   Oct-05  13.20  14.47  12.40  12.99\n",
              "4   Nov-05  13.35  13.88  12.88  13.41\n",
              "5   Dec-05  13.49  14.44  13.00  13.71\n",
              "6   Jan-06  13.68  17.16  13.58  15.33\n",
              "7   Feb-06  15.50  16.97  15.40  16.12\n",
              "8   Mar-06  16.20  20.95  16.02  20.08\n",
              "9   Apr-06  20.56  20.80  18.02  19.49\n",
              "10  May-06  19.80  21.80  15.80  18.03\n",
              "11  Jun-06  18.20  18.40  13.40  15.62"
            ]
          },
          "metadata": {},
          "execution_count": 121
        }
      ]
    },
    {
      "cell_type": "code",
      "metadata": {
        "colab": {
          "base_uri": "https://localhost:8080/",
          "height": 204
        },
        "id": "LIjIrPKvuzk0",
        "outputId": "e268a132-28f6-4d56-e126-1c9b07869df0"
      },
      "source": [
        "dataset.tail()"
      ],
      "execution_count": 122,
      "outputs": [
        {
          "output_type": "execute_result",
          "data": {
            "text/html": [
              "<div>\n",
              "<style scoped>\n",
              "    .dataframe tbody tr th:only-of-type {\n",
              "        vertical-align: middle;\n",
              "    }\n",
              "\n",
              "    .dataframe tbody tr th {\n",
              "        vertical-align: top;\n",
              "    }\n",
              "\n",
              "    .dataframe thead th {\n",
              "        text-align: right;\n",
              "    }\n",
              "</style>\n",
              "<table border=\"1\" class=\"dataframe\">\n",
              "  <thead>\n",
              "    <tr style=\"text-align: right;\">\n",
              "      <th></th>\n",
              "      <th>Date</th>\n",
              "      <th>Open</th>\n",
              "      <th>High</th>\n",
              "      <th>Low</th>\n",
              "      <th>Close</th>\n",
              "    </tr>\n",
              "  </thead>\n",
              "  <tbody>\n",
              "    <tr>\n",
              "      <th>180</th>\n",
              "      <td>Jul-20</td>\n",
              "      <td>25.60</td>\n",
              "      <td>28.30</td>\n",
              "      <td>11.10</td>\n",
              "      <td>11.95</td>\n",
              "    </tr>\n",
              "    <tr>\n",
              "      <th>181</th>\n",
              "      <td>Aug-20</td>\n",
              "      <td>12.00</td>\n",
              "      <td>17.16</td>\n",
              "      <td>11.85</td>\n",
              "      <td>14.37</td>\n",
              "    </tr>\n",
              "    <tr>\n",
              "      <th>182</th>\n",
              "      <td>Sep-20</td>\n",
              "      <td>14.30</td>\n",
              "      <td>15.34</td>\n",
              "      <td>12.75</td>\n",
              "      <td>13.15</td>\n",
              "    </tr>\n",
              "    <tr>\n",
              "      <th>183</th>\n",
              "      <td>Oct-20</td>\n",
              "      <td>13.30</td>\n",
              "      <td>14.01</td>\n",
              "      <td>12.11</td>\n",
              "      <td>12.42</td>\n",
              "    </tr>\n",
              "    <tr>\n",
              "      <th>184</th>\n",
              "      <td>Nov-20</td>\n",
              "      <td>12.41</td>\n",
              "      <td>14.90</td>\n",
              "      <td>12.21</td>\n",
              "      <td>14.67</td>\n",
              "    </tr>\n",
              "  </tbody>\n",
              "</table>\n",
              "</div>"
            ],
            "text/plain": [
              "       Date   Open   High    Low  Close\n",
              "180  Jul-20  25.60  28.30  11.10  11.95\n",
              "181  Aug-20  12.00  17.16  11.85  14.37\n",
              "182  Sep-20  14.30  15.34  12.75  13.15\n",
              "183  Oct-20  13.30  14.01  12.11  12.42\n",
              "184  Nov-20  12.41  14.90  12.21  14.67"
            ]
          },
          "metadata": {},
          "execution_count": 122
        }
      ]
    },
    {
      "cell_type": "code",
      "metadata": {
        "id": "ucj3bj08HijE"
      },
      "source": [
        "dataset = dataset.set_index('Date')"
      ],
      "execution_count": 123,
      "outputs": []
    },
    {
      "cell_type": "code",
      "metadata": {
        "colab": {
          "base_uri": "https://localhost:8080/",
          "height": 297
        },
        "id": "ULizDep_7hvx",
        "outputId": "52c61b55-806b-43f4-a69e-e0a82d9b1dbc"
      },
      "source": [
        "dataset.describe()"
      ],
      "execution_count": 124,
      "outputs": [
        {
          "output_type": "execute_result",
          "data": {
            "text/html": [
              "<div>\n",
              "<style scoped>\n",
              "    .dataframe tbody tr th:only-of-type {\n",
              "        vertical-align: middle;\n",
              "    }\n",
              "\n",
              "    .dataframe tbody tr th {\n",
              "        vertical-align: top;\n",
              "    }\n",
              "\n",
              "    .dataframe thead th {\n",
              "        text-align: right;\n",
              "    }\n",
              "</style>\n",
              "<table border=\"1\" class=\"dataframe\">\n",
              "  <thead>\n",
              "    <tr style=\"text-align: right;\">\n",
              "      <th></th>\n",
              "      <th>Open</th>\n",
              "      <th>High</th>\n",
              "      <th>Low</th>\n",
              "      <th>Close</th>\n",
              "    </tr>\n",
              "  </thead>\n",
              "  <tbody>\n",
              "    <tr>\n",
              "      <th>count</th>\n",
              "      <td>185.000000</td>\n",
              "      <td>185.000000</td>\n",
              "      <td>185.000000</td>\n",
              "      <td>185.000000</td>\n",
              "    </tr>\n",
              "    <tr>\n",
              "      <th>mean</th>\n",
              "      <td>105.541405</td>\n",
              "      <td>116.104324</td>\n",
              "      <td>94.947838</td>\n",
              "      <td>105.204703</td>\n",
              "    </tr>\n",
              "    <tr>\n",
              "      <th>std</th>\n",
              "      <td>98.879850</td>\n",
              "      <td>106.333497</td>\n",
              "      <td>91.219415</td>\n",
              "      <td>98.583153</td>\n",
              "    </tr>\n",
              "    <tr>\n",
              "      <th>min</th>\n",
              "      <td>10.000000</td>\n",
              "      <td>11.240000</td>\n",
              "      <td>5.550000</td>\n",
              "      <td>9.980000</td>\n",
              "    </tr>\n",
              "    <tr>\n",
              "      <th>25%</th>\n",
              "      <td>33.800000</td>\n",
              "      <td>36.140000</td>\n",
              "      <td>28.510000</td>\n",
              "      <td>33.450000</td>\n",
              "    </tr>\n",
              "    <tr>\n",
              "      <th>50%</th>\n",
              "      <td>62.980000</td>\n",
              "      <td>72.550000</td>\n",
              "      <td>58.000000</td>\n",
              "      <td>62.540000</td>\n",
              "    </tr>\n",
              "    <tr>\n",
              "      <th>75%</th>\n",
              "      <td>153.000000</td>\n",
              "      <td>169.190000</td>\n",
              "      <td>138.350000</td>\n",
              "      <td>153.300000</td>\n",
              "    </tr>\n",
              "    <tr>\n",
              "      <th>max</th>\n",
              "      <td>369.950000</td>\n",
              "      <td>404.000000</td>\n",
              "      <td>345.500000</td>\n",
              "      <td>367.900000</td>\n",
              "    </tr>\n",
              "  </tbody>\n",
              "</table>\n",
              "</div>"
            ],
            "text/plain": [
              "             Open        High         Low       Close\n",
              "count  185.000000  185.000000  185.000000  185.000000\n",
              "mean   105.541405  116.104324   94.947838  105.204703\n",
              "std     98.879850  106.333497   91.219415   98.583153\n",
              "min     10.000000   11.240000    5.550000    9.980000\n",
              "25%     33.800000   36.140000   28.510000   33.450000\n",
              "50%     62.980000   72.550000   58.000000   62.540000\n",
              "75%    153.000000  169.190000  138.350000  153.300000\n",
              "max    369.950000  404.000000  345.500000  367.900000"
            ]
          },
          "metadata": {},
          "execution_count": 124
        }
      ]
    },
    {
      "cell_type": "code",
      "metadata": {
        "colab": {
          "base_uri": "https://localhost:8080/"
        },
        "id": "nkipxpRy7lir",
        "outputId": "016cd5b0-75eb-4a73-f0e6-661d83dacf95"
      },
      "source": [
        "dataset.info()"
      ],
      "execution_count": 125,
      "outputs": [
        {
          "output_type": "stream",
          "name": "stdout",
          "text": [
            "<class 'pandas.core.frame.DataFrame'>\n",
            "Index: 185 entries, Jul-05 to Nov-20\n",
            "Data columns (total 4 columns):\n",
            " #   Column  Non-Null Count  Dtype  \n",
            "---  ------  --------------  -----  \n",
            " 0   Open    185 non-null    float64\n",
            " 1   High    185 non-null    float64\n",
            " 2   Low     185 non-null    float64\n",
            " 3   Close   185 non-null    float64\n",
            "dtypes: float64(4)\n",
            "memory usage: 7.2+ KB\n"
          ]
        }
      ]
    },
    {
      "cell_type": "code",
      "metadata": {
        "colab": {
          "base_uri": "https://localhost:8080/"
        },
        "id": "Nnmf_xPt7n-7",
        "outputId": "06eb1a52-dc74-4377-fc74-d7631f0e5d62"
      },
      "source": [
        "# duplicate\n",
        "len(dataset[dataset.duplicated()])"
      ],
      "execution_count": 126,
      "outputs": [
        {
          "output_type": "execute_result",
          "data": {
            "text/plain": [
              "0"
            ]
          },
          "metadata": {},
          "execution_count": 126
        }
      ]
    },
    {
      "cell_type": "code",
      "metadata": {
        "id": "rmfhyFFS6uGk"
      },
      "source": [
        "df = dataset.copy()"
      ],
      "execution_count": 127,
      "outputs": []
    },
    {
      "cell_type": "code",
      "metadata": {
        "id": "ojy28lTpS2b4"
      },
      "source": [
        "test_dataset = dataset.copy()"
      ],
      "execution_count": 128,
      "outputs": []
    },
    {
      "cell_type": "code",
      "metadata": {
        "colab": {
          "base_uri": "https://localhost:8080/"
        },
        "id": "WqzDRY2C76SZ",
        "outputId": "f2d9f54a-f9c3-4655-acdc-b419740b9550"
      },
      "source": [
        "dataset.columns"
      ],
      "execution_count": 129,
      "outputs": [
        {
          "output_type": "execute_result",
          "data": {
            "text/plain": [
              "Index(['Open', 'High', 'Low', 'Close'], dtype='object')"
            ]
          },
          "metadata": {},
          "execution_count": 129
        }
      ]
    },
    {
      "cell_type": "code",
      "metadata": {
        "colab": {
          "base_uri": "https://localhost:8080/",
          "height": 497
        },
        "id": "wdbU9pO00-8V",
        "outputId": "bfd44e4d-3829-4f46-979d-4d8d739f0393"
      },
      "source": [
        "plt.figure(figsize=(20, 8))\n",
        "df['Close'].plot()\n",
        "plt.ylabel(\"Close Prices\")\n",
        "plt.show()"
      ],
      "execution_count": 130,
      "outputs": [
        {
          "output_type": "display_data",
          "data": {
            "image/png": "[encoded data removed]",
            "text/plain": [
              "<Figure size 1440x576 with 1 Axes>"
            ]
          },
          "metadata": {
            "needs_background": "light"
          }
        }
      ]
    },
    {
      "cell_type": "code",
      "metadata": {
        "colab": {
          "base_uri": "https://localhost:8080/"
        },
        "id": "Pr0jJBKk8O3v",
        "outputId": "bcde0f28-bb3f-4c30-8656-5bb63d0b2023"
      },
      "source": [
        "numeric_features = dataset.describe().columns\n",
        "numeric_features"
      ],
      "execution_count": 131,
      "outputs": [
        {
          "output_type": "execute_result",
          "data": {
            "text/plain": [
              "Index(['Open', 'High', 'Low', 'Close'], dtype='object')"
            ]
          },
          "metadata": {},
          "execution_count": 131
        }
      ]
    },
    {
      "cell_type": "code",
      "metadata": {
        "colab": {
          "base_uri": "https://localhost:8080/",
          "height": 1000
        },
        "id": "6vaBz-QM8esX",
        "outputId": "93741c18-dddc-4750-a51b-874f2a6e5e26"
      },
      "source": [
        "#@title Plot a bar plot for each numerical feature count (except car_ID)\n",
        "\n",
        "for col in numeric_features[1:]:\n",
        "    fig = plt.figure(figsize=(14, 6))\n",
        "    ax = fig.gca()\n",
        "    feature = df[col]\n",
        "    feature.plot()\n",
        "    # feature.hist(bins=50, ax = ax)\n",
        "    # ax.axvline(feature.mean(), color='magenta', linestyle='dashed', linewidth=2)\n",
        "    # ax.axvline(feature.median(), color='cyan', linestyle='dashed', linewidth=2)    \n",
        "    ax.set_title(col)\n",
        "plt.show()"
      ],
      "execution_count": 132,
      "outputs": [
        {
          "output_type": "display_data",
          "data": {
            "image/png": "[encoded data removed]",
            "text/plain": [
              "<Figure size 1008x432 with 1 Axes>"
            ]
          },
          "metadata": {
            "needs_background": "light"
          }
        },
        {
          "output_type": "display_data",
          "data": {
            "image/png": "[encoded data removed]",
            "text/plain": [
              "<Figure size 1008x432 with 1 Axes>"
            ]
          },
          "metadata": {
            "needs_background": "light"
          }
        },
        {
          "output_type": "display_data",
          "data": {
            "image/png": "[encoded data removed]",
            "text/plain": [
              "<Figure size 1008x432 with 1 Axes>"
            ]
          },
          "metadata": {
            "needs_background": "light"
          }
        }
      ]
    },
    {
      "cell_type": "code",
      "metadata": {
        "id": "IOJ-ssnQ8net",
        "colab": {
          "base_uri": "https://localhost:8080/",
          "height": 504
        },
        "outputId": "e8120f49-562a-4c08-99fa-0b0f952c7439"
      },
      "source": [
        " ## Correlation\n",
        "plt.figure(figsize=(15,8))\n",
        "correlation = df.corr()\n",
        "sns.heatmap(abs(correlation), annot=True, cmap='coolwarm')"
      ],
      "execution_count": 133,
      "outputs": [
        {
          "output_type": "execute_result",
          "data": {
            "text/plain": [
              "<matplotlib.axes._subplots.AxesSubplot at 0x7f496ed14050>"
            ]
          },
          "metadata": {},
          "execution_count": 133
        },
        {
          "output_type": "display_data",
          "data": {
            "image/png": "[encoded data removed]",
            "text/plain": [
              "<Figure size 1080x576 with 2 Axes>"
            ]
          },
          "metadata": {
            "needs_background": "light"
          }
        }
      ]
    },
    {
      "cell_type": "code",
      "metadata": {
        "id": "oiJrnoV6qWIf"
      },
      "source": [
        ""
      ],
      "execution_count": 133,
      "outputs": []
    },
    {
      "cell_type": "markdown",
      "metadata": {
        "id": "PAHyUiF_HQjI"
      },
      "source": [
        "# Testing Section............"
      ]
    },
    {
      "cell_type": "code",
      "metadata": {
        "id": "N7pJaIrQIUBz"
      },
      "source": [
        "# Create a variable to predict 'x' days out into future\n",
        "future_days = 25"
      ],
      "execution_count": 134,
      "outputs": []
    },
    {
      "cell_type": "code",
      "metadata": {
        "id": "NPBq2vVsImG5"
      },
      "source": [
        "# df['Prediction'] = df[['Close']].shift(-future_days)"
      ],
      "execution_count": 135,
      "outputs": []
    },
    {
      "cell_type": "code",
      "metadata": {
        "id": "94tko3syASZH"
      },
      "source": [
        "X = df.iloc[:, :-1].values"
      ],
      "execution_count": 142,
      "outputs": []
    },
    {
      "cell_type": "code",
      "metadata": {
        "id": "yKMcDrKfd_B3",
        "colab": {
          "base_uri": "https://localhost:8080/"
        },
        "outputId": "f923fe28-d464-489d-f5c2-ba1d26b9e2c2"
      },
      "source": [
        "X"
      ],
      "execution_count": 143,
      "outputs": [
        {
          "output_type": "execute_result",
          "data": {
            "text/plain": [
              "array([[ 13.  ,  14.  ,  11.25],\n",
              "       [ 12.58,  14.88,  12.55],\n",
              "       [ 13.48,  14.87,  12.27],\n",
              "       [ 13.2 ,  14.47,  12.4 ],\n",
              "       [ 13.35,  13.88,  12.88],\n",
              "       [ 13.49,  14.44,  13.  ],\n",
              "       [ 13.68,  17.16,  13.58],\n",
              "       [ 15.5 ,  16.97,  15.4 ],\n",
              "       [ 16.2 ,  20.95,  16.02],\n",
              "       [ 20.56,  20.8 ,  18.02],\n",
              "       [ 19.8 ,  21.8 ,  15.8 ],\n",
              "       [ 18.2 ,  18.4 ,  13.4 ],\n",
              "       [ 16.  ,  17.2 ,  13.82],\n",
              "       [ 15.9 ,  18.6 ,  15.7 ],\n",
              "       [ 18.  ,  18.88,  16.8 ],\n",
              "       [ 18.78,  24.2 ,  18.5 ],\n",
              "       [ 22.8 ,  28.47,  21.4 ],\n",
              "       [ 25.4 ,  29.66,  24.4 ],\n",
              "       [ 27.4 ,  34.16,  27.  ],\n",
              "       [ 30.2 ,  32.6 ,  26.8 ],\n",
              "       [ 29.3 ,  31.58,  23.31],\n",
              "       [ 27.  ,  31.99,  26.2 ],\n",
              "       [ 30.66,  36.14,  29.11],\n",
              "       [ 33.89,  36.38,  30.4 ],\n",
              "       [ 35.98,  41.04,  35.02],\n",
              "       [ 37.5 ,  39.  ,  30.2 ],\n",
              "       [ 37.4 ,  41.75,  35.3 ],\n",
              "       [ 41.8 ,  47.3 ,  33.6 ],\n",
              "       [ 44.4 ,  50.98,  40.02],\n",
              "       [ 46.4 ,  54.  ,  45.  ],\n",
              "       [ 49.99,  55.56,  30.24],\n",
              "       [ 50.88,  53.97,  44.4 ],\n",
              "       [ 48.9 ,  48.9 ,  24.11],\n",
              "       [ 33.9 ,  35.8 ,  28.51],\n",
              "       [ 34.3 ,  36.88,  30.03],\n",
              "       [ 31.22,  32.22,  22.62],\n",
              "       [ 22.85,  30.5 ,  20.4 ],\n",
              "       [ 25.  ,  28.98,  24.62],\n",
              "       [ 26.68,  29.8 ,  21.7 ],\n",
              "       [ 24.6 ,  25.  ,  11.01],\n",
              "       [ 14.79,  17.8 ,  11.25],\n",
              "       [ 12.4 ,  16.56,  11.13],\n",
              "       [ 15.28,  18.34,  11.48],\n",
              "       [ 12.19,  12.5 ,   9.9 ],\n",
              "       [ 10.  ,  11.24,   8.16],\n",
              "       [ 10.04,  17.51,   9.94],\n",
              "       [ 15.94,  28.84,  14.76],\n",
              "       [ 25.6 ,  31.08,  23.  ],\n",
              "       [ 29.7 ,  33.16,  24.83],\n",
              "       [ 31.98,  35.18,  29.  ],\n",
              "       [ 33.8 ,  41.3 ,  32.  ],\n",
              "       [ 41.2 ,  52.34,  36.8 ],\n",
              "       [ 46.58,  54.98,  42.84],\n",
              "       [ 50.98,  55.67,  48.6 ],\n",
              "       [ 53.6 ,  57.58,  46.42],\n",
              "       [ 49.  ,  51.48,  44.6 ],\n",
              "       [ 47.8 ,  52.06,  47.3 ],\n",
              "       [ 50.67,  59.48,  48.8 ],\n",
              "       [ 56.94,  58.08,  50.66],\n",
              "       [ 56.7 ,  59.9 ,  52.6 ],\n",
              "       [ 53.55,  60.94,  53.02],\n",
              "       [ 59.4 ,  68.88,  59.01],\n",
              "       [ 62.8 ,  71.74,  62.51],\n",
              "       [ 70.9 ,  76.  ,  68.21],\n",
              "       [ 72.2 ,  77.6 ,  58.  ],\n",
              "       [ 61.8 ,  68.36,  55.44],\n",
              "       [ 62.98,  63.54,  49.39],\n",
              "       [ 53.  ,  57.69,  46.71],\n",
              "       [ 51.84,  65.2 ,  50.8 ],\n",
              "       [ 62.  ,  68.26,  60.5 ],\n",
              "       [ 61.26,  61.68,  54.5 ],\n",
              "       [ 60.4 ,  63.39,  54.8 ],\n",
              "       [ 63.  ,  68.  ,  61.36],\n",
              "       [ 62.9 ,  63.96,  50.51],\n",
              "       [ 56.  ,  60.08,  51.2 ],\n",
              "       [ 53.8 ,  64.8 ,  48.1 ],\n",
              "       [ 62.2 ,  63.7 ,  52.04],\n",
              "       [ 57.  ,  59.8 ,  47.4 ],\n",
              "       [ 47.92,  66.5 ,  46.11],\n",
              "       [ 65.9 ,  74.8 ,  63.6 ],\n",
              "       [ 69.  ,  77.88,  66.2 ],\n",
              "       [ 73.62,  76.1 ,  69.11],\n",
              "       [ 70.4 ,  70.59,  58.85],\n",
              "       [ 65.45,  70.6 ,  62.14],\n",
              "       [ 68.15,  73.19,  67.57],\n",
              "       [ 73.  ,  74.78,  65.27],\n",
              "       [ 66.2 ,  77.69,  64.46],\n",
              "       [ 76.4 ,  84.2 ,  75.6 ],\n",
              "       [ 82.54,  89.6 ,  82.22],\n",
              "       [ 89.2 ,  95.  ,  88.01],\n",
              "       [ 93.2 , 107.  ,  93.2 ],\n",
              "       [104.41, 107.8 ,  93.4 ],\n",
              "       [ 94.  , 100.15,  83.42],\n",
              "       [ 85.7 , 101.8 ,  83.43],\n",
              "       [100.99, 109.43,  97.2 ],\n",
              "       [ 99.  , 102.94,  87.15],\n",
              "       [ 92.4 , 100.4 ,  57.71],\n",
              "       [ 66.  ,  67.81,  43.22],\n",
              "       [ 49.2 ,  78.94,  44.8 ],\n",
              "       [ 58.  ,  76.44,  56.08],\n",
              "       [ 74.  ,  77.27,  64.65],\n",
              "       [ 74.4 ,  83.  ,  71.63],\n",
              "       [ 74.74,  76.35,  60.8 ],\n",
              "       [ 61.54,  62.7 ,  58.42],\n",
              "       [ 60.52,  83.36,  60.34],\n",
              "       [ 83.45,  94.98,  80.8 ],\n",
              "       [ 88.8 , 117.6 ,  86.98],\n",
              "       [114.8 , 117.57, 101.62],\n",
              "       [108.43, 114.46, 100.44],\n",
              "       [107.4 , 118.69, 103.31],\n",
              "       [114.6 , 126.85, 107.18],\n",
              "       [112.1 , 137.8 , 109.2 ],\n",
              "       [137.1 , 143.91, 132.44],\n",
              "       [142.08, 155.  , 134.  ],\n",
              "       [154.4 , 179.  , 150.47],\n",
              "       [172.5 , 173.88, 156.1 ],\n",
              "       [174.8 , 182.  , 156.8 ],\n",
              "       [162.8 , 172.8 , 154.53],\n",
              "       [170.  , 176.96, 157.8 ],\n",
              "       [177.  , 179.4 , 158.9 ],\n",
              "       [169.  , 175.58, 156.45],\n",
              "       [165.9 , 169.19, 118.  ],\n",
              "       [135.61, 155.5 , 127.  ],\n",
              "       [146.96, 155.94, 141.73],\n",
              "       [151.73, 157.96, 144.03],\n",
              "       [153.  , 154.52, 133.71],\n",
              "       [145.  , 149.9 , 126.45],\n",
              "       [150.4 , 157.85, 132.74],\n",
              "       [138.8 , 175.12, 138.35],\n",
              "       [172.02, 190.44, 165.33],\n",
              "       [189.8 , 209.  , 181.28],\n",
              "       [206.4 , 223.  , 201.14],\n",
              "       [221.96, 247.18, 221.35],\n",
              "       [244.  , 275.  , 240.68],\n",
              "       [273.3 , 290.  , 231.2 ],\n",
              "       [253.41, 265.5 , 245.8 ],\n",
              "       [255.  , 262.72, 219.1 ],\n",
              "       [235.4 , 245.  , 218.25],\n",
              "       [231.98, 284.31, 226.3 ],\n",
              "       [280.4 , 294.19, 275.61],\n",
              "       [290.6 , 311.57, 283.6 ],\n",
              "       [309.6 , 330.58, 300.2 ],\n",
              "       [326.  , 330.3 , 275.15],\n",
              "       [286.66, 306.34, 280.21],\n",
              "       [293.04, 372.  , 290.78],\n",
              "       [363.  , 368.52, 337.37],\n",
              "       [351.  , 383.25, 345.5 ],\n",
              "       [354.6 , 375.75, 299.  ],\n",
              "       [315.5 , 329.8 , 296.  ],\n",
              "       [307.2 , 319.  , 300.65],\n",
              "       [314.  , 366.  , 307.35],\n",
              "       [355.  , 366.5 , 304.65],\n",
              "       [320.7 , 325.8 , 285.1 ],\n",
              "       [305.  , 368.75, 303.3 ],\n",
              "       [362.85, 364.4 , 325.7 ],\n",
              "       [348.  , 350.1 , 327.35],\n",
              "       [340.  , 393.35, 332.45],\n",
              "       [369.95, 404.  , 338.  ],\n",
              "       [347.2 , 350.  , 166.15],\n",
              "       [180.  , 268.45, 168.6 ],\n",
              "       [192.  , 231.4 , 147.  ],\n",
              "       [174.  , 194.3 , 160.2 ],\n",
              "       [182.85, 236.3 , 181.15],\n",
              "       [197.  , 236.9 , 167.65],\n",
              "       [234.6 , 281.3 , 228.8 ],\n",
              "       [277.  , 285.9 , 165.3 ],\n",
              "       [163.3 , 178.05, 133.05],\n",
              "       [147.95, 153.8 ,  98.75],\n",
              "       [109.6 , 110.6 ,  81.75],\n",
              "       [ 89.2 ,  92.4 ,  53.15],\n",
              "       [ 59.5 ,  72.55,  40.95],\n",
              "       [ 42.  ,  76.65,  29.05],\n",
              "       [ 71.  ,  75.35,  59.95],\n",
              "       [ 70.  ,  70.5 ,  40.7 ],\n",
              "       [ 46.9 ,  48.5 ,  36.55],\n",
              "       [ 39.1 ,  40.7 ,  33.6 ],\n",
              "       [ 35.2 ,  87.95,   5.55],\n",
              "       [ 22.3 ,  30.45,  20.3 ],\n",
              "       [ 27.8 ,  31.6 ,  25.2 ],\n",
              "       [ 27.75,  31.95,  25.55],\n",
              "       [ 25.6 ,  28.3 ,  11.1 ],\n",
              "       [ 12.  ,  17.16,  11.85],\n",
              "       [ 14.3 ,  15.34,  12.75],\n",
              "       [ 13.3 ,  14.01,  12.11],\n",
              "       [ 12.41,  14.9 ,  12.21]])"
            ]
          },
          "metadata": {},
          "execution_count": 143
        }
      ]
    },
    {
      "cell_type": "code",
      "metadata": {
        "id": "8ii4F1VEWlf0"
      },
      "source": [
        "y = df['Close'].values"
      ],
      "execution_count": 149,
      "outputs": []
    },
    {
      "cell_type": "code",
      "metadata": {
        "colab": {
          "base_uri": "https://localhost:8080/"
        },
        "id": "UsCv9jHYAXWT",
        "outputId": "fce1ff1c-37b4-40f5-a64f-2a3a2605f499"
      },
      "source": [
        "y"
      ],
      "execution_count": 150,
      "outputs": [
        {
          "output_type": "execute_result",
          "data": {
            "text/plain": [
              "array([ 12.46,  13.42,  13.3 ,  12.99,  13.41,  13.71,  15.33,  16.12,\n",
              "        20.08,  19.49,  18.03,  15.62,  16.16,  17.84,  18.46,  22.78,\n",
              "        25.32,  26.97,  30.16,  28.63,  28.14,  30.31,  33.51,  35.98,\n",
              "        37.93,  36.99,  41.36,  43.48,  46.18,  49.81,  50.54,  49.42,\n",
              "        33.75,  34.06,  31.13,  22.85,  25.45,  26.83,  24.13,  13.58,\n",
              "        12.26,  15.03,  12.24,  10.26,   9.98,  15.45,  25.12,  29.68,\n",
              "        31.93,  33.45,  40.99,  47.31,  50.57,  53.41,  49.84,  47.32,\n",
              "        50.97,  57.1 ,  57.57,  53.83,  58.99,  62.22,  70.3 ,  71.86,\n",
              "        61.21,  62.54,  52.59,  51.29,  61.98,  61.02,  60.07,  62.38,\n",
              "        62.13,  55.61,  54.5 ,  62.9 ,  54.49,  47.72,  65.99,  69.14,\n",
              "        73.46,  70.07,  66.02,  67.83,  72.85,  65.97,  76.44,  82.29,\n",
              "        88.48,  92.84, 104.41,  94.5 ,  85.71, 100.28,  97.49,  92.2 ,\n",
              "        64.76,  48.65,  57.5 ,  73.76,  73.74,  74.02,  61.59,  60.95,\n",
              "        82.7 ,  88.14, 113.89, 108.38, 108.21, 114.33, 111.7 , 136.83,\n",
              "       142.08, 154.57, 172.5 , 172.55, 163.31, 167.96, 176.52, 168.6 ,\n",
              "       165.74, 137.9 , 145.92, 151.82, 153.3 , 145.23, 149.38, 137.67,\n",
              "       172.91, 188.73, 206.39, 221.3 , 243.44, 272.56, 250.85, 253.52,\n",
              "       234.28, 231.26, 279.1 , 290.56, 309.82, 326.14, 286.38, 292.37,\n",
              "       361.96, 351.15, 350.  , 314.35, 306.8 , 315.05, 354.45, 322.25,\n",
              "       304.9 , 362.05, 346.2 , 339.6 , 367.9 , 343.4 , 183.45, 188.05,\n",
              "       169.65, 181.75, 194.3 , 231.2 , 275.05, 168.  , 147.95, 108.7 ,\n",
              "        91.3 ,  59.5 ,  41.45,  70.45,  68.3 ,  46.95,  39.2 ,  34.55,\n",
              "        22.45,  27.95,  26.85,  25.6 ,  11.95,  14.37,  13.15,  12.42,\n",
              "        14.67])"
            ]
          },
          "metadata": {},
          "execution_count": 150
        }
      ]
    },
    {
      "cell_type": "code",
      "metadata": {
        "colab": {
          "base_uri": "https://localhost:8080/"
        },
        "id": "yzSueAsfEuNl",
        "outputId": "4bb828ea-eb0b-4417-e5ab-63cec4cadd49"
      },
      "source": [
        "len(y)"
      ],
      "execution_count": 151,
      "outputs": [
        {
          "output_type": "execute_result",
          "data": {
            "text/plain": [
              "185"
            ]
          },
          "metadata": {},
          "execution_count": 151
        }
      ]
    },
    {
      "cell_type": "code",
      "metadata": {
        "colab": {
          "base_uri": "https://localhost:8080/"
        },
        "id": "8TOdxFlVBTSV",
        "outputId": "9d3a05be-164d-4701-b186-b5c6fcaeff05"
      },
      "source": [
        "df.shape"
      ],
      "execution_count": 152,
      "outputs": [
        {
          "output_type": "execute_result",
          "data": {
            "text/plain": [
              "(185, 4)"
            ]
          },
          "metadata": {},
          "execution_count": 152
        }
      ]
    },
    {
      "cell_type": "code",
      "metadata": {
        "id": "BHEjPun1AtvN"
      },
      "source": [
        "X_train, X_test, y_train, y_test = train_test_split(X, y, test_size = 0.2)"
      ],
      "execution_count": 153,
      "outputs": []
    },
    {
      "cell_type": "code",
      "metadata": {
        "id": "o9JXEE4ZGMmc"
      },
      "source": [
        "from sklearn.tree import DecisionTreeRegressor\n",
        "tree = DecisionTreeRegressor().fit(X_train, y_train)\n",
        "\n",
        "\n",
        "from sklearn.linear_model import LinearRegression\n",
        "lr = LinearRegression().fit(X_train, y_train)"
      ],
      "execution_count": 154,
      "outputs": []
    },
    {
      "cell_type": "code",
      "metadata": {
        "colab": {
          "base_uri": "https://localhost:8080/"
        },
        "id": "kq17vc80JOLw",
        "outputId": "55b5e9eb-63a2-4357-dd0c-1e832f917a3a"
      },
      "source": [
        "X_future = df.iloc[:, :-1]\n",
        "X_future = X_future.tail(future_days).values\n",
        "X_future"
      ],
      "execution_count": 159,
      "outputs": [
        {
          "output_type": "execute_result",
          "data": {
            "text/plain": [
              "array([[192.  , 231.4 , 147.  ],\n",
              "       [174.  , 194.3 , 160.2 ],\n",
              "       [182.85, 236.3 , 181.15],\n",
              "       [197.  , 236.9 , 167.65],\n",
              "       [234.6 , 281.3 , 228.8 ],\n",
              "       [277.  , 285.9 , 165.3 ],\n",
              "       [163.3 , 178.05, 133.05],\n",
              "       [147.95, 153.8 ,  98.75],\n",
              "       [109.6 , 110.6 ,  81.75],\n",
              "       [ 89.2 ,  92.4 ,  53.15],\n",
              "       [ 59.5 ,  72.55,  40.95],\n",
              "       [ 42.  ,  76.65,  29.05],\n",
              "       [ 71.  ,  75.35,  59.95],\n",
              "       [ 70.  ,  70.5 ,  40.7 ],\n",
              "       [ 46.9 ,  48.5 ,  36.55],\n",
              "       [ 39.1 ,  40.7 ,  33.6 ],\n",
              "       [ 35.2 ,  87.95,   5.55],\n",
              "       [ 22.3 ,  30.45,  20.3 ],\n",
              "       [ 27.8 ,  31.6 ,  25.2 ],\n",
              "       [ 27.75,  31.95,  25.55],\n",
              "       [ 25.6 ,  28.3 ,  11.1 ],\n",
              "       [ 12.  ,  17.16,  11.85],\n",
              "       [ 14.3 ,  15.34,  12.75],\n",
              "       [ 13.3 ,  14.01,  12.11],\n",
              "       [ 12.41,  14.9 ,  12.21]])"
            ]
          },
          "metadata": {},
          "execution_count": 159
        }
      ]
    },
    {
      "cell_type": "code",
      "metadata": {
        "id": "TLuuUmuqG7fu"
      },
      "source": [
        "# X_future = df.drop(['Prediction'],1).iloc[:-future_days]\n",
        "# X_future = X_future.tail(future_days).values\n",
        "# X_future"
      ],
      "execution_count": null,
      "outputs": []
    },
    {
      "cell_type": "code",
      "metadata": {
        "id": "YHeOrIsPWI_O"
      },
      "source": [
        "X_future.shape"
      ],
      "execution_count": null,
      "outputs": []
    },
    {
      "cell_type": "code",
      "metadata": {
        "id": "64ZsFK2jHa1f"
      },
      "source": [
        "tree_prediction = tree.predict(X_future)\n",
        "print(tree_prediction)\n",
        "print()\n",
        "\n",
        "\n",
        "lr_prediction = lr.predict(X_future)\n",
        "print(lr_prediction)"
      ],
      "execution_count": null,
      "outputs": []
    },
    {
      "cell_type": "code",
      "metadata": {
        "id": "Qw5svbd3FHfH"
      },
      "source": [
        "df[X.shape[0]:].shape"
      ],
      "execution_count": null,
      "outputs": []
    },
    {
      "cell_type": "code",
      "metadata": {
        "id": "0eFTM-BwIpga"
      },
      "source": [
        "predictions = tree_prediction\n",
        "\n",
        "valid = df[X.shape[0]:]\n",
        "valid['Prediction'] = predictions\n",
        "plt.figure(figsize=(40,8))\n",
        "plt.title('Tree Model')\n",
        "plt.xlabel('Days')\n",
        "plt.ylabel('Close Price')\n",
        "plt.plot(df['Close'])\n",
        "plt.plot(valid[['Close', 'Prediction']])\n",
        "plt.legend(['Original', 'Valid', 'Predict'])\n",
        "plt.xticks(rotation=90)\n",
        "plt.show"
      ],
      "execution_count": null,
      "outputs": []
    },
    {
      "cell_type": "code",
      "metadata": {
        "id": "S1aNofoIJqtM"
      },
      "source": [
        "predictions = lr_prediction\n",
        "\n",
        "valid = df[X.shape[0]:]\n",
        "valid['Prediction'] = predictions\n",
        "plt.figure(figsize=(16,8))\n",
        "plt.title('Linear Model')\n",
        "plt.xlabel('Days')\n",
        "plt.ylabel('Close Price')\n",
        "plt.plot(df['Close'])\n",
        "plt.plot(valid[['Close', 'Prediction']])\n",
        "plt.legend(['Original', 'Valid', 'Predict'])\n",
        "plt.show"
      ],
      "execution_count": null,
      "outputs": []
    },
    {
      "cell_type": "code",
      "metadata": {
        "id": "Xy9aQ-ziMyaj"
      },
      "source": [
        ""
      ],
      "execution_count": null,
      "outputs": []
    },
    {
      "cell_type": "markdown",
      "metadata": {
        "id": "DZ1e4DWZSWXd"
      },
      "source": [
        "# ............................................................................"
      ]
    },
    {
      "cell_type": "code",
      "metadata": {
        "id": "KnyTqLO8SaZM"
      },
      "source": [
        "test_dataset"
      ],
      "execution_count": null,
      "outputs": []
    },
    {
      "cell_type": "code",
      "metadata": {
        "id": "nK8bEo0QTLCi"
      },
      "source": [
        "test_dataset['Prediction'] = df[['Close']].shift(-future_days)"
      ],
      "execution_count": null,
      "outputs": []
    }
  ]
}